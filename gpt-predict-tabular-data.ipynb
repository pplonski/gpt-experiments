{
 "cells": [
  {
   "cell_type": "code",
   "execution_count": 1,
   "id": "ce318afb-7752-48b3-89da-29da71da9230",
   "metadata": {},
   "outputs": [],
   "source": [
    "import os\n",
    "import mercury as mr\n",
    "import html2text\n",
    "import tiktoken\n",
    "import requests\n",
    "import openai\n",
    "import pandas as pd\n",
    "import numpy as np\n",
    "from io import StringIO\n",
    "from sklearn.model_selection import train_test_split\n",
    "from sklearn.metrics import accuracy_score\n",
    "from dotenv import load_dotenv"
   ]
  },
  {
   "cell_type": "code",
   "execution_count": 2,
   "id": "b0a87f13-d006-420f-86bd-62eff360f82e",
   "metadata": {},
   "outputs": [],
   "source": [
    "_ = load_dotenv()"
   ]
  },
  {
   "cell_type": "code",
   "execution_count": 3,
   "id": "895fb177-be3e-4460-88cc-7e2d10cbe39a",
   "metadata": {},
   "outputs": [],
   "source": [
    "openai.api_key = os.getenv(\"OPENAI_API_KEY\")"
   ]
  },
  {
   "cell_type": "code",
   "execution_count": 4,
   "id": "8a3a649e-2f5f-454f-9f72-8a4e4dc7512e",
   "metadata": {},
   "outputs": [
    {
     "data": {
      "application/mercury+json": "{\n    \"widget\": \"App\",\n    \"title\": \"GPT predicts on tabular data\",\n    \"description\": \"Pass tabular training data to GPT and ask for prediction\",\n    \"show_code\": false,\n    \"show_prompt\": false,\n    \"output\": \"app\",\n    \"schedule\": \"\",\n    \"notify\": \"{}\",\n    \"continuous_update\": true,\n    \"static_notebook\": false,\n    \"show_sidebar\": true,\n    \"full_screen\": true,\n    \"allow_download\": true,\n    \"stop_on_error\": false,\n    \"model_id\": \"mercury-app\",\n    \"code_uid\": \"App.0.40.25.1-randcb917c44\"\n}",
      "text/html": [
       "<h3>Mercury Application</h3><small>This output won't appear in the web app.</small>"
      ],
      "text/plain": [
       "mercury.App"
      ]
     },
     "metadata": {},
     "output_type": "display_data"
    }
   ],
   "source": [
    "app = mr.App(title=\"GPT predicts on tabular data\", description=\"Pass tabular training data to GPT and ask for prediction\")"
   ]
  },
  {
   "cell_type": "code",
   "execution_count": 5,
   "id": "87e09a03-3dea-4190-be45-b7e16c9f8def",
   "metadata": {},
   "outputs": [
    {
     "data": {
      "application/mercury+json": "{\n    \"widget\": \"File\",\n    \"max_file_size\": \"1MB\",\n    \"label\": \"Upload CSV with training data\",\n    \"model_id\": \"6200e916867d4da3ad582ee70dc0f59d\",\n    \"code_uid\": \"File.0.40.18.1-rand4a510430\",\n    \"disabled\": false,\n    \"hidden\": false\n}",
      "application/vnd.jupyter.widget-view+json": {
       "model_id": "6200e916867d4da3ad582ee70dc0f59d",
       "version_major": 2,
       "version_minor": 0
      },
      "text/plain": [
       "mercury.File"
      ]
     },
     "metadata": {},
     "output_type": "display_data"
    }
   ],
   "source": [
    "data_file = mr.File(label=\"Upload CSV with training data\", max_file_size=\"1MB\")"
   ]
  },
  {
   "cell_type": "code",
   "execution_count": 6,
   "id": "95284dd4-d8bd-405c-9432-bfb88c8ded99",
   "metadata": {},
   "outputs": [
    {
     "data": {
      "text/markdown": [
       "Please upload data"
      ],
      "text/plain": [
       "<IPython.core.display.Markdown object>"
      ]
     },
     "metadata": {},
     "output_type": "display_data"
    }
   ],
   "source": [
    "if data_file.filepath is None:\n",
    "    mr.Markdown(\"Please upload data\")\n",
    "    mr.Stop()"
   ]
  },
  {
   "cell_type": "code",
   "execution_count": null,
   "id": "ee71ebd4-7394-414c-8798-cde3396ff9bc",
   "metadata": {},
   "outputs": [],
   "source": [
    "\n",
    "df = pd.read_csv(data_file.filepath)"
   ]
  },
  {
   "cell_type": "code",
   "execution_count": null,
   "id": "148452a4-4242-497d-b7b6-114aea5b9d07",
   "metadata": {},
   "outputs": [],
   "source": [
    "train, test = train_test_split(df, test_size=0.3)"
   ]
  },
  {
   "cell_type": "code",
   "execution_count": null,
   "id": "ef00ad85-45f3-4dd2-be67-e94dba8b639c",
   "metadata": {},
   "outputs": [],
   "source": []
  },
  {
   "cell_type": "code",
   "execution_count": null,
   "id": "4d570954-38f7-44bc-b39b-86f3abc75d61",
   "metadata": {},
   "outputs": [],
   "source": []
  },
  {
   "cell_type": "code",
   "execution_count": null,
   "id": "973b0c75-0055-48d0-938a-ef36f642573e",
   "metadata": {},
   "outputs": [],
   "source": [
    "x_columns = mr.MultiSelect(label=\"Input features\", value=list(df.columns)[:-1], \n",
    "                           choices=list(df.columns))"
   ]
  },
  {
   "cell_type": "code",
   "execution_count": null,
   "id": "b03512ca-e0b2-47fa-847d-ffb0f77dcaeb",
   "metadata": {},
   "outputs": [],
   "source": [
    "y_column = mr.Select(label=\"Target\", value=list(df.columns)[-1], choices=list(df.columns))"
   ]
  },
  {
   "cell_type": "code",
   "execution_count": null,
   "id": "1c92324d-5497-4a68-a0f9-0718b22fa3d6",
   "metadata": {},
   "outputs": [],
   "source": [
    "if x_columns.value is None or len(x_columns.value) == 0 or y_column.value is None:\n",
    "    mr.Markdown(\"Please select input features and target column\")\n",
    "    mr.Stop()"
   ]
  },
  {
   "cell_type": "code",
   "execution_count": null,
   "id": "0d4edaf1-af91-4284-a138-51e3da503334",
   "metadata": {},
   "outputs": [],
   "source": []
  },
  {
   "cell_type": "code",
   "execution_count": null,
   "id": "b17a92ee-1aa1-4545-9adc-446786461a2c",
   "metadata": {},
   "outputs": [],
   "source": [
    "ask_chat = mr.Button(label=\"Ask ChatGPT\")"
   ]
  },
  {
   "cell_type": "code",
   "execution_count": null,
   "id": "d167649b-064b-4caf-a9c4-6db631286d82",
   "metadata": {},
   "outputs": [],
   "source": [
    "if ask_chat.clicked:\n",
    "    completion = openai.ChatCompletion.create(model=\"gpt-3.5-turbo\", \n",
    "                                          temperature=0,\n",
    "                                          messages=[{\n",
    "                                                  \"role\": \"user\", \n",
    "                                                  \"content\": f\"\"\"\n",
    "                                                  Below is a training CSV table. \n",
    "                                                  Input features are columns: {x_columns.value}.\n",
    "                                                  Target feature is column {y_column.value}.\"\"\"\n",
    "                                              },\n",
    "                                              {\n",
    "                                                  \"role\": \"user\", \n",
    "                                                  \"content\": train.to_csv(index=False)\n",
    "                                              },\n",
    "                                              {\n",
    "                                                  \"role\": \"user\", \n",
    "                                                  \"content\": \"\"\"\n",
    "                                                  Predict target value for each sample from table below. \n",
    "                                                  Write predicted target for each sample in separate row.\n",
    "                                                  Dont add header. Just predicted targets.\"\"\"\n",
    "                                              },\n",
    "                                              {\n",
    "                                                  \"role\": \"user\", \n",
    "                                                  \"content\": test[x_columns.value].to_csv(index=False)\n",
    "                                              }\n",
    "                                          ])\n",
    "else:\n",
    "    mr.Stop()"
   ]
  },
  {
   "cell_type": "code",
   "execution_count": null,
   "id": "86f3beb6-56f0-4808-b92d-3079a42037ee",
   "metadata": {},
   "outputs": [],
   "source": []
  },
  {
   "cell_type": "code",
   "execution_count": null,
   "id": "79a04fa5-f13d-4626-83db-dce23cb3008b",
   "metadata": {},
   "outputs": [],
   "source": [
    "chat_response = completion.choices[0].message.content\n",
    "print(chat_response)"
   ]
  },
  {
   "cell_type": "code",
   "execution_count": null,
   "id": "fa338ba5-7ce8-4009-9152-408acac54519",
   "metadata": {},
   "outputs": [],
   "source": [
    "y_predicted = np.array(chat_response.split(\"\\n\")) "
   ]
  },
  {
   "cell_type": "code",
   "execution_count": null,
   "id": "fe384d3e-a902-4e07-8673-d2dc682b605b",
   "metadata": {},
   "outputs": [],
   "source": [
    "y_predicted.shape"
   ]
  },
  {
   "cell_type": "code",
   "execution_count": null,
   "id": "a167faa6-9280-4bd5-9da0-28b97cc3f929",
   "metadata": {},
   "outputs": [],
   "source": [
    "test_target = test[y_column.value]"
   ]
  },
  {
   "cell_type": "code",
   "execution_count": null,
   "id": "b5568067-acd5-4a67-a64d-65c7aa3dab5a",
   "metadata": {},
   "outputs": [],
   "source": [
    "test_target.shape"
   ]
  },
  {
   "cell_type": "code",
   "execution_count": null,
   "id": "53e055d4-56c1-4d06-85d4-229c755c347a",
   "metadata": {},
   "outputs": [],
   "source": [
    "shortest = min(y_predicted.shape[0], test_target.shape[0])"
   ]
  },
  {
   "cell_type": "code",
   "execution_count": null,
   "id": "05ffb2e2-33fa-45a6-b6c5-df2d93e74ed3",
   "metadata": {},
   "outputs": [],
   "source": [
    "acc = np.round(accuracy_score(test_target[:shortest], y_predicted[:shortest]), 4)"
   ]
  },
  {
   "cell_type": "code",
   "execution_count": null,
   "id": "457cb0dc-db90-41c7-bc11-7655fea9d8dd",
   "metadata": {},
   "outputs": [],
   "source": [
    "print(f\"Accuracy: {acc}\")"
   ]
  },
  {
   "cell_type": "code",
   "execution_count": null,
   "id": "6cc9bc0f-4b62-46ba-aae4-8d1e0e7ceea0",
   "metadata": {},
   "outputs": [],
   "source": [
    "y_predicted"
   ]
  },
  {
   "cell_type": "code",
   "execution_count": null,
   "id": "5b0506f6-b2bf-4a56-809c-0aab2d4f2b36",
   "metadata": {},
   "outputs": [],
   "source": [
    "test_target"
   ]
  },
  {
   "cell_type": "code",
   "execution_count": null,
   "id": "a9944630-683e-4eb7-b1ad-636ffce51440",
   "metadata": {},
   "outputs": [],
   "source": []
  }
 ],
 "metadata": {
  "kernelspec": {
   "display_name": "gptenv",
   "language": "python",
   "name": "gptenv"
  },
  "language_info": {
   "codemirror_mode": {
    "name": "ipython",
    "version": 3
   },
   "file_extension": ".py",
   "mimetype": "text/x-python",
   "name": "python",
   "nbconvert_exporter": "python",
   "pygments_lexer": "ipython3",
   "version": "3.8.10"
  }
 },
 "nbformat": 4,
 "nbformat_minor": 5
}
