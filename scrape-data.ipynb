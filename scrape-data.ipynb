{
 "cells": [
  {
   "cell_type": "code",
   "execution_count": 1,
   "id": "c9ef4a72",
   "metadata": {},
   "outputs": [],
   "source": [
    "import os\n",
    "import mercury as mr\n",
    "import html2text\n",
    "import tiktoken\n",
    "import requests\n",
    "import openai\n",
    "import pandas as pd\n",
    "from io import StringIO\n",
    "from dotenv import load_dotenv"
   ]
  },
  {
   "cell_type": "code",
   "execution_count": 2,
   "id": "7e4bfa19-1e60-419a-8fd5-111865e747d2",
   "metadata": {},
   "outputs": [],
   "source": [
    "_=load_dotenv()"
   ]
  },
  {
   "cell_type": "code",
   "execution_count": 3,
   "id": "31ede538-3674-4151-9d68-42502c5e1929",
   "metadata": {},
   "outputs": [],
   "source": [
    "openai.api_key = os.getenv(\"OPENAI_API_KEY\")"
   ]
  },
  {
   "cell_type": "code",
   "execution_count": 4,
   "id": "401b411b",
   "metadata": {},
   "outputs": [
    {
     "data": {
      "application/mercury+json": "{\n    \"widget\": \"App\",\n    \"title\": \"Scrape with GPT\",\n    \"description\": \"Scrape popular projects from GitHub\",\n    \"show_code\": false,\n    \"show_prompt\": false,\n    \"output\": \"app\",\n    \"schedule\": \"\",\n    \"notify\": \"{}\",\n    \"continuous_update\": true,\n    \"static_notebook\": false,\n    \"show_sidebar\": true,\n    \"full_screen\": true,\n    \"allow_download\": true,\n    \"stop_on_error\": false,\n    \"model_id\": \"mercury-app\",\n    \"code_uid\": \"App.0.40.25.1-randf6b65d73\"\n}",
      "text/html": [
       "<h3>Mercury Application</h3><small>This output won't appear in the web app.</small>"
      ],
      "text/plain": [
       "mercury.App"
      ]
     },
     "metadata": {},
     "output_type": "display_data"
    }
   ],
   "source": [
    "app = mr.App(title=\"Scrape with GPT\", description=\"Scrape popular projects from GitHub\")"
   ]
  },
  {
   "cell_type": "code",
   "execution_count": 5,
   "id": "ba6b3ae9",
   "metadata": {},
   "outputs": [
    {
     "data": {
      "application/mercury+json": "{\n    \"widget\": \"Text\",\n    \"value\": \"python\",\n    \"rows\": 1,\n    \"label\": \"Topic\",\n    \"model_id\": \"217c8835d7a641c3b79a1d22e2ea0ec3\",\n    \"code_uid\": \"Text.0.40.15.1-rand1d8f8d7b\",\n    \"url_key\": \"\",\n    \"disabled\": false,\n    \"hidden\": false\n}",
      "application/vnd.jupyter.widget-view+json": {
       "model_id": "217c8835d7a641c3b79a1d22e2ea0ec3",
       "version_major": 2,
       "version_minor": 0
      },
      "text/plain": [
       "mercury.Text"
      ]
     },
     "metadata": {},
     "output_type": "display_data"
    }
   ],
   "source": [
    "topic = mr.Text(label=\"Topic\", value=\"python\")"
   ]
  },
  {
   "cell_type": "code",
   "execution_count": 6,
   "id": "7c5d4017",
   "metadata": {},
   "outputs": [],
   "source": [
    "response = requests.get(f\"https://github.com/topics/{topic.value}\")"
   ]
  },
  {
   "cell_type": "code",
   "execution_count": 7,
   "id": "eebef96a",
   "metadata": {},
   "outputs": [],
   "source": [
    "# len(response.content)"
   ]
  },
  {
   "cell_type": "code",
   "execution_count": 8,
   "id": "95434806",
   "metadata": {},
   "outputs": [],
   "source": [
    "#encoding = tiktoken.encoding_for_model(\"gpt-3.5-turbo\")\n",
    "#num_tokens = len(encoding.encode(str(response.text)))\n",
    "# num_tokens"
   ]
  },
  {
   "cell_type": "code",
   "execution_count": null,
   "id": "96ce6c5a",
   "metadata": {},
   "outputs": [],
   "source": []
  },
  {
   "cell_type": "code",
   "execution_count": 9,
   "id": "cc22e259",
   "metadata": {},
   "outputs": [],
   "source": [
    "h = html2text.HTML2Text()\n",
    "h.ignore_links = True"
   ]
  },
  {
   "cell_type": "code",
   "execution_count": 10,
   "id": "68624cb6",
   "metadata": {},
   "outputs": [],
   "source": [
    "txt = h.handle(response.text)"
   ]
  },
  {
   "cell_type": "code",
   "execution_count": null,
   "id": "c7d4eff9",
   "metadata": {},
   "outputs": [],
   "source": []
  },
  {
   "cell_type": "code",
   "execution_count": null,
   "id": "08f73ad4",
   "metadata": {},
   "outputs": [],
   "source": []
  },
  {
   "cell_type": "code",
   "execution_count": 11,
   "id": "105453e6",
   "metadata": {},
   "outputs": [],
   "source": [
    "completion = openai.ChatCompletion.create(model=\"gpt-3.5-turbo\", \n",
    "                                          temperature=0,\n",
    "                                          messages=[{\n",
    "                                                  \"role\": \"user\", \n",
    "                                                  \"content\": f\"\"\"\n",
    "                                                  Summarize below text as CSV table with project name, number of stars as integer, and description. \n",
    "                                                  Put columns in double quotes.\n",
    "                                                  Column names should be: name, stars, description.\"\"\"\n",
    "                                              },\n",
    "                                              {\n",
    "                                                  \"role\": \"user\", \n",
    "                                                  \"content\": txt.replace(\"\\n\", \"\")\n",
    "                                              }\n",
    "                                          ])"
   ]
  },
  {
   "cell_type": "code",
   "execution_count": 12,
   "id": "ef087519",
   "metadata": {},
   "outputs": [],
   "source": [
    "chat_response = completion.choices[0].message.content\n"
   ]
  },
  {
   "cell_type": "code",
   "execution_count": 13,
   "id": "078ad089-3879-4e92-8804-6f5ad5a16d61",
   "metadata": {},
   "outputs": [
    {
     "data": {
      "application/mercury+json": "{\n    \"widget\": \"Checkbox\",\n    \"value\": false,\n    \"label\": \"Show website html\",\n    \"model_id\": \"204bb786baad41bb9fcf7be125d1d82b\",\n    \"code_uid\": \"Checkbox.0.40.11.1-rand1810d16b\",\n    \"url_key\": \"\",\n    \"disabled\": false,\n    \"hidden\": false\n}",
      "application/vnd.jupyter.widget-view+json": {
       "model_id": "204bb786baad41bb9fcf7be125d1d82b",
       "version_major": 2,
       "version_minor": 0
      },
      "text/plain": [
       "mercury.Checkbox"
      ]
     },
     "metadata": {},
     "output_type": "display_data"
    }
   ],
   "source": [
    "show_html = mr.Checkbox(label=\"Show website html\", value=False)"
   ]
  },
  {
   "cell_type": "code",
   "execution_count": 14,
   "id": "f92a765e",
   "metadata": {},
   "outputs": [],
   "source": [
    "if show_html.value:\n",
    "    print(response.text)"
   ]
  },
  {
   "cell_type": "code",
   "execution_count": 15,
   "id": "70353111-eea0-413c-8076-f86ec07be2c9",
   "metadata": {},
   "outputs": [
    {
     "data": {
      "application/mercury+json": "{\n    \"widget\": \"Checkbox\",\n    \"value\": false,\n    \"label\": \"Show website text\",\n    \"model_id\": \"a5bbfb9a3d8148b2a8ac5317b2f76c1e\",\n    \"code_uid\": \"Checkbox.0.40.11.1-rand1a1c31b0\",\n    \"url_key\": \"\",\n    \"disabled\": false,\n    \"hidden\": false\n}",
      "application/vnd.jupyter.widget-view+json": {
       "model_id": "a5bbfb9a3d8148b2a8ac5317b2f76c1e",
       "version_major": 2,
       "version_minor": 0
      },
      "text/plain": [
       "mercury.Checkbox"
      ]
     },
     "metadata": {},
     "output_type": "display_data"
    }
   ],
   "source": [
    "show_txt = mr.Checkbox(label=\"Show website text\", value=False)"
   ]
  },
  {
   "cell_type": "code",
   "execution_count": 16,
   "id": "7d026c24",
   "metadata": {},
   "outputs": [],
   "source": [
    "if show_txt.value:\n",
    "    print(txt)"
   ]
  },
  {
   "cell_type": "code",
   "execution_count": 17,
   "id": "e5137b49",
   "metadata": {},
   "outputs": [
    {
     "data": {
      "application/mercury+json": "{\n    \"widget\": \"Checkbox\",\n    \"value\": false,\n    \"label\": \"Show response\",\n    \"model_id\": \"655788d7f4b4477f8579033898bb712b\",\n    \"code_uid\": \"Checkbox.0.40.11.1-rand557979b8\",\n    \"url_key\": \"\",\n    \"disabled\": false,\n    \"hidden\": false\n}",
      "application/vnd.jupyter.widget-view+json": {
       "model_id": "655788d7f4b4477f8579033898bb712b",
       "version_major": 2,
       "version_minor": 0
      },
      "text/plain": [
       "mercury.Checkbox"
      ]
     },
     "metadata": {},
     "output_type": "display_data"
    }
   ],
   "source": [
    "show_response = mr.Checkbox(label=\"Show response\", value=False)"
   ]
  },
  {
   "cell_type": "code",
   "execution_count": 18,
   "id": "6764921f",
   "metadata": {},
   "outputs": [],
   "source": [
    "if show_response.value:\n",
    "    print(chat_response)"
   ]
  },
  {
   "cell_type": "code",
   "execution_count": null,
   "id": "52633fcd",
   "metadata": {},
   "outputs": [],
   "source": []
  },
  {
   "cell_type": "code",
   "execution_count": 19,
   "id": "188a61fc",
   "metadata": {},
   "outputs": [],
   "source": [
    "df = pd.read_csv(StringIO(chat_response))"
   ]
  },
  {
   "cell_type": "code",
   "execution_count": 20,
   "id": "0b6a0749",
   "metadata": {},
   "outputs": [
    {
     "data": {
      "text/html": [
       "<div>\n",
       "<style scoped>\n",
       "    .dataframe tbody tr th:only-of-type {\n",
       "        vertical-align: middle;\n",
       "    }\n",
       "\n",
       "    .dataframe tbody tr th {\n",
       "        vertical-align: top;\n",
       "    }\n",
       "\n",
       "    .dataframe thead th {\n",
       "        text-align: right;\n",
       "    }\n",
       "</style>\n",
       "<table border=\"1\" class=\"dataframe\">\n",
       "  <thead>\n",
       "    <tr style=\"text-align: right;\">\n",
       "      <th></th>\n",
       "      <th>name</th>\n",
       "      <th>stars</th>\n",
       "      <th>description</th>\n",
       "    </tr>\n",
       "  </thead>\n",
       "  <tbody>\n",
       "    <tr>\n",
       "      <th>0</th>\n",
       "      <td>donnemartin/system-design-primer</td>\n",
       "      <td>227000</td>\n",
       "      <td>Learn how to design large-scale systems. Prep ...</td>\n",
       "    </tr>\n",
       "    <tr>\n",
       "      <th>1</th>\n",
       "      <td>tensorflow/tensorflow</td>\n",
       "      <td>177000</td>\n",
       "      <td>An Open Source Machine Learning Framework for ...</td>\n",
       "    </tr>\n",
       "    <tr>\n",
       "      <th>2</th>\n",
       "      <td>vinta/awesome-python</td>\n",
       "      <td>176000</td>\n",
       "      <td>A curated list of awesome Python frameworks, l...</td>\n",
       "    </tr>\n",
       "    <tr>\n",
       "      <th>3</th>\n",
       "      <td>CyC2018/CS-Notes</td>\n",
       "      <td>166000</td>\n",
       "      <td>📚 技术面试必备基础知识、Leetcode、计算机操作系统、计算机网络、系统设计</td>\n",
       "    </tr>\n",
       "    <tr>\n",
       "      <th>4</th>\n",
       "      <td>TheAlgorithms/Python</td>\n",
       "      <td>164000</td>\n",
       "      <td>All Algorithms implemented in Python</td>\n",
       "    </tr>\n",
       "    <tr>\n",
       "      <th>5</th>\n",
       "      <td>Significant-Gravitas/Auto-GPT</td>\n",
       "      <td>146000</td>\n",
       "      <td>An experimental open-source attempt to make GP...</td>\n",
       "    </tr>\n",
       "    <tr>\n",
       "      <th>6</th>\n",
       "      <td>30-seconds/30-seconds-of-code</td>\n",
       "      <td>115000</td>\n",
       "      <td>Short code snippets for all your development n...</td>\n",
       "    </tr>\n",
       "    <tr>\n",
       "      <th>7</th>\n",
       "      <td>practical-tutorials/project-based-learning</td>\n",
       "      <td>113000</td>\n",
       "      <td>Curated list of project-based tutorials</td>\n",
       "    </tr>\n",
       "    <tr>\n",
       "      <th>8</th>\n",
       "      <td>huggingface/transformers</td>\n",
       "      <td>110000</td>\n",
       "      <td>🤗 Transformers: State-of-the-art Machine Learn...</td>\n",
       "    </tr>\n",
       "    <tr>\n",
       "      <th>9</th>\n",
       "      <td>justjavac/free-programming-books-zh_CN</td>\n",
       "      <td>104000</td>\n",
       "      <td>📚 免费的计算机编程类中文书籍，欢迎投稿</td>\n",
       "    </tr>\n",
       "    <tr>\n",
       "      <th>10</th>\n",
       "      <td>nvbn/thefuck</td>\n",
       "      <td>78900</td>\n",
       "      <td>Magnificent app which corrects your previous c...</td>\n",
       "    </tr>\n",
       "    <tr>\n",
       "      <th>11</th>\n",
       "      <td>django/django</td>\n",
       "      <td>72400</td>\n",
       "      <td>The Web framework for perfectionists with dead...</td>\n",
       "    </tr>\n",
       "    <tr>\n",
       "      <th>12</th>\n",
       "      <td>521xueweihan/HelloGitHub</td>\n",
       "      <td>72300</td>\n",
       "      <td>分享 GitHub 上有趣、入门级的开源项目。Share interesting, entr...</td>\n",
       "    </tr>\n",
       "    <tr>\n",
       "      <th>13</th>\n",
       "      <td>pytorch/pytorch</td>\n",
       "      <td>69600</td>\n",
       "      <td>Tensors and Dynamic neural networks in Python ...</td>\n",
       "    </tr>\n",
       "    <tr>\n",
       "      <th>14</th>\n",
       "      <td>pallets/flask</td>\n",
       "      <td>63800</td>\n",
       "      <td>The Python micro framework for building web ap...</td>\n",
       "    </tr>\n",
       "    <tr>\n",
       "      <th>15</th>\n",
       "      <td>home-assistant/core</td>\n",
       "      <td>62200</td>\n",
       "      <td>Open source home automation that puts local co...</td>\n",
       "    </tr>\n",
       "    <tr>\n",
       "      <th>16</th>\n",
       "      <td>tiangolo/fastapi</td>\n",
       "      <td>61300</td>\n",
       "      <td>FastAPI framework, high performance, easy to l...</td>\n",
       "    </tr>\n",
       "    <tr>\n",
       "      <th>17</th>\n",
       "      <td>keras-team/keras</td>\n",
       "      <td>59000</td>\n",
       "      <td>Deep Learning for humans</td>\n",
       "    </tr>\n",
       "    <tr>\n",
       "      <th>18</th>\n",
       "      <td>ansible/ansible</td>\n",
       "      <td>58200</td>\n",
       "      <td>Ansible is a radically simple IT automation pl...</td>\n",
       "    </tr>\n",
       "    <tr>\n",
       "      <th>19</th>\n",
       "      <td>scikit-learn/scikit-learn</td>\n",
       "      <td>55300</td>\n",
       "      <td>scikit-learn: machine learning in Python</td>\n",
       "    </tr>\n",
       "  </tbody>\n",
       "</table>\n",
       "</div>"
      ],
      "text/plain": [
       "                                          name   stars  \\\n",
       "0             donnemartin/system-design-primer  227000   \n",
       "1                        tensorflow/tensorflow  177000   \n",
       "2                         vinta/awesome-python  176000   \n",
       "3                             CyC2018/CS-Notes  166000   \n",
       "4                         TheAlgorithms/Python  164000   \n",
       "5                Significant-Gravitas/Auto-GPT  146000   \n",
       "6                30-seconds/30-seconds-of-code  115000   \n",
       "7   practical-tutorials/project-based-learning  113000   \n",
       "8                     huggingface/transformers  110000   \n",
       "9       justjavac/free-programming-books-zh_CN  104000   \n",
       "10                                nvbn/thefuck   78900   \n",
       "11                               django/django   72400   \n",
       "12                    521xueweihan/HelloGitHub   72300   \n",
       "13                             pytorch/pytorch   69600   \n",
       "14                               pallets/flask   63800   \n",
       "15                         home-assistant/core   62200   \n",
       "16                            tiangolo/fastapi   61300   \n",
       "17                            keras-team/keras   59000   \n",
       "18                             ansible/ansible   58200   \n",
       "19                   scikit-learn/scikit-learn   55300   \n",
       "\n",
       "                                          description  \n",
       "0   Learn how to design large-scale systems. Prep ...  \n",
       "1   An Open Source Machine Learning Framework for ...  \n",
       "2   A curated list of awesome Python frameworks, l...  \n",
       "3            📚 技术面试必备基础知识、Leetcode、计算机操作系统、计算机网络、系统设计  \n",
       "4                All Algorithms implemented in Python  \n",
       "5   An experimental open-source attempt to make GP...  \n",
       "6   Short code snippets for all your development n...  \n",
       "7             Curated list of project-based tutorials  \n",
       "8   🤗 Transformers: State-of-the-art Machine Learn...  \n",
       "9                                📚 免费的计算机编程类中文书籍，欢迎投稿  \n",
       "10  Magnificent app which corrects your previous c...  \n",
       "11  The Web framework for perfectionists with dead...  \n",
       "12  分享 GitHub 上有趣、入门级的开源项目。Share interesting, entr...  \n",
       "13  Tensors and Dynamic neural networks in Python ...  \n",
       "14  The Python micro framework for building web ap...  \n",
       "15  Open source home automation that puts local co...  \n",
       "16  FastAPI framework, high performance, easy to l...  \n",
       "17                           Deep Learning for humans  \n",
       "18  Ansible is a radically simple IT automation pl...  \n",
       "19           scikit-learn: machine learning in Python  "
      ]
     },
     "execution_count": 20,
     "metadata": {},
     "output_type": "execute_result"
    }
   ],
   "source": [
    "df"
   ]
  },
  {
   "cell_type": "code",
   "execution_count": 21,
   "id": "0ecae1ea",
   "metadata": {},
   "outputs": [
    {
     "data": {
      "image/png": "[encoded data removed]",
      "text/plain": [
       "<Figure size 640x480 with 1 Axes>"
      ]
     },
     "metadata": {},
     "output_type": "display_data"
    }
   ],
   "source": [
    "_=df.plot.bar(x=\"name\", y=\"stars\")"
   ]
  },
  {
   "cell_type": "code",
   "execution_count": 22,
   "id": "222df5cf",
   "metadata": {},
   "outputs": [
    {
     "data": {
      "application/mercury+json": "{\n    \"widget\": \"OutputDir\",\n    \"model_id\": \"output-dir\",\n    \"code_uid\": \"OutputDir.0.40.18.1-rand52104520\"\n}",
      "text/html": [
       "<h3>Output Directory</h3><small>This output won't appear in the web app.</small>"
      ],
      "text/plain": [
       "mercury.OutputDir"
      ]
     },
     "metadata": {},
     "output_type": "display_data"
    }
   ],
   "source": [
    "output_dir = mr.OutputDir()"
   ]
  },
  {
   "cell_type": "code",
   "execution_count": 24,
   "id": "aa1803b1-7ebf-4c4a-9668-5f0303504259",
   "metadata": {},
   "outputs": [],
   "source": [
    "df.to_csv(os.path.join(output_dir.path, f\"{topic.value}-data.csv\"), index=False)"
   ]
  },
  {
   "cell_type": "code",
   "execution_count": null,
   "id": "a92a1276-87a0-442f-aafe-cd752ebb5ee6",
   "metadata": {},
   "outputs": [],
   "source": []
  }
 ],
 "metadata": {
  "kernelspec": {
   "display_name": "gptenv",
   "language": "python",
   "name": "gptenv"
  },
  "language_info": {
   "codemirror_mode": {
    "name": "ipython",
    "version": 3
   },
   "file_extension": ".py",
   "mimetype": "text/x-python",
   "name": "python",
   "nbconvert_exporter": "python",
   "pygments_lexer": "ipython3",
   "version": "3.8.10"
  }
 },
 "nbformat": 4,
 "nbformat_minor": 5
}
